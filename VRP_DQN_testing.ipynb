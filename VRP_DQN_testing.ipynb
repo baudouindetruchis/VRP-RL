{
  "nbformat": 4,
  "nbformat_minor": 0,
  "metadata": {
    "colab": {
      "name": "VRP_DQN_testing.ipynb",
      "provenance": [],
      "collapsed_sections": [],
      "toc_visible": true,
      "authorship_tag": "ABX9TyNXaFiABROp1Gs2N5PURlfp",
      "include_colab_link": true
    },
    "kernelspec": {
      "name": "python3",
      "display_name": "Python 3"
    }
  },
  "cells": [
    {
      "cell_type": "markdown",
      "metadata": {
        "id": "view-in-github",
        "colab_type": "text"
      },
      "source": [
        "<a href=\"https://colab.research.google.com/github/baudouindetruchis/VRP-RL/blob/main/VRP_DQN_testing.ipynb\" target=\"_parent\"><img src=\"https://colab.research.google.com/assets/colab-badge.svg\" alt=\"Open In Colab\"/></a>"
      ]
    },
    {
      "cell_type": "code",
      "metadata": {
        "colab": {
          "base_uri": "https://localhost:8080/"
        },
        "id": "tpxsDC5i3cTM",
        "outputId": "4b5a74ea-f680-43f8-e474-5433d4f87926"
      },
      "source": [
        "import numpy as np\r\n",
        "from matplotlib import pyplot as plt\r\n",
        "import random\r\n",
        "import os\r\n",
        "import time\r\n",
        "from collections import deque \r\n",
        "from keras.models import Sequential, load_model, Model\r\n",
        "from keras.layers import Dense, Dropout, Conv2D, MaxPooling2D, Flatten, BatchNormalization, Activation, ZeroPadding2D, Add, Input\r\n",
        "from keras.utils.vis_utils import plot_model\r\n",
        "from tqdm.notebook import tqdm\r\n",
        "import tensorflow as tf\r\n",
        "from keras.callbacks import TensorBoard\r\n",
        "from google.colab import drive\r\n",
        "\r\n",
        "# Check GPU\r\n",
        "if not len(tf.test.gpu_device_name()):\r\n",
        "    print(\"[WARNING] GPU not activated\")\r\n",
        "\r\n",
        "# Mount google drive\r\n",
        "drive.mount('/content/drive')"
      ],
      "execution_count": 2,
      "outputs": [
        {
          "output_type": "stream",
          "text": [
            "[WARNING] GPU not activated\n",
            "Mounted at /content/drive\n"
          ],
          "name": "stdout"
        }
      ]
    },
    {
      "cell_type": "markdown",
      "metadata": {
        "id": "02EKjIvc31hT"
      },
      "source": [
        "### Parameters"
      ]
    },
    {
      "cell_type": "code",
      "metadata": {
        "id": "lkc7dvV_3swe"
      },
      "source": [
        "##### ENVIRONMENT\r\n",
        "GRID_SIZE = 10\r\n",
        "N_POD = 15\r\n",
        "HISTORY_SIZE = 2\r\n",
        "\r\n",
        "##### MODEL\r\n",
        "PATH = \"/content/drive/MyDrive/VRP_DQN\"\r\n",
        "LOAD_MODEL = PATH + '/models/5x256C-D10-256__-74.7avg__1612922023.model'  # Filepath or None\r\n",
        "MODEL_NAME = '5x256C-D10-256'"
      ],
      "execution_count": 4,
      "outputs": []
    },
    {
      "cell_type": "markdown",
      "metadata": {
        "id": "PdXwRW7lOSYf"
      },
      "source": [
        "## Environment"
      ]
    },
    {
      "cell_type": "code",
      "metadata": {
        "id": "hu13h5l_qimN"
      },
      "source": [
        "class VRP:\r\n",
        "    def __init__(self, grid_size=GRID_SIZE, n_pod=N_POD, history_size=HISTORY_SIZE):\r\n",
        "        # Parameters\r\n",
        "        self.grid_size = grid_size\r\n",
        "        self.n_pod = n_pod\r\n",
        "        self.history_size = history_size\r\n",
        "\r\n",
        "        # Game states\r\n",
        "        self.depot_grid = self.create_depot_grid()\r\n",
        "        self.pod_grid = self.create_pod_grid()\r\n",
        "        self.history = np.concatenate((np.expand_dims(self.depot_grid, axis=2),\r\n",
        "                                       np.zeros((self.grid_size, self.grid_size, history_size), dtype=int)), axis=2)\r\n",
        "        \r\n",
        "        # Variables\r\n",
        "        self.episode_step = 0\r\n",
        "        self.route = [np.unravel_index(np.argmax(self.depot_grid, axis=None), self.depot_grid.shape)]     # Stores vehicule route\r\n",
        "\r\n",
        "    # Give the position of the depot\r\n",
        "    def create_depot_grid(self):\r\n",
        "        depot_grid = np.zeros((self.grid_size, self.grid_size), dtype=int)\r\n",
        "        depot_grid[np.random.randint(0, self.grid_size - 1), random.randint(0, self.grid_size - 1)] = 1\r\n",
        "        return depot_grid\r\n",
        "\r\n",
        "    # Give position of PoD\r\n",
        "    def create_pod_grid(self):\r\n",
        "        pod_grid = np.zeros((self.grid_size, self.grid_size), dtype=int)\r\n",
        "        for i in range(self.n_pod):\r\n",
        "            random_x = np.random.randint(0, self.grid_size - 1)\r\n",
        "            random_y = np.random.randint(0, self.grid_size - 1)\r\n",
        "            # Reset if spot already taken\r\n",
        "            while (self.depot_grid[random_x, random_y] == 1) or (pod_grid[random_x, random_y] == 1):\r\n",
        "                random_x = np.random.randint(0, self.grid_size - 1)\r\n",
        "                random_y = np.random.randint(0, self.grid_size - 1)\r\n",
        "            pod_grid[random_x, random_y] = 1\r\n",
        "        return pod_grid\r\n",
        "    \r\n",
        "    def get_observation(self):\r\n",
        "        # Stack (create a new dimension) depot and PoD grid\r\n",
        "        observation = np.concatenate((np.expand_dims(self.depot_grid, axis=2), np.expand_dims(self.pod_grid, axis=2)), axis=2)\r\n",
        "        observation = np.concatenate((observation, self.history), axis=2)\r\n",
        "        return observation\r\n",
        "    \r\n",
        "    # Get the closest point in a direction (if none get a random valid point)\r\n",
        "    def direction_closest(self, action):\r\n",
        "        # Current truck position\r\n",
        "        current_position = self.history[:,:,0] - self.history[:,:,1]\r\n",
        "        current_coordinates = np.unravel_index(np.argmax(current_position, axis=None), current_position.shape)\r\n",
        "        # Get valid actions coordinates\r\n",
        "        valid_actions = (env.depot_grid + env.pod_grid - env.history[:,:,0])\r\n",
        "        valid_coordinates = np.argwhere(valid_actions == 1)\r\n",
        "        # Transform into polar coordinates\r\n",
        "        offset_coordinates = valid_coordinates.copy()\r\n",
        "        offset_coordinates[:,0] = valid_coordinates[:,1] - current_coordinates[1]\r\n",
        "        offset_coordinates[:,1] = -valid_coordinates[:,0] + current_coordinates[0]\r\n",
        "        polar_coordinates = offset_coordinates.astype(float)\r\n",
        "        polar_coordinates[:,0] = np.round(np.sqrt(offset_coordinates[:,0]**2 + offset_coordinates[:,1]**2), 2)\r\n",
        "        polar_coordinates[:,1] = np.round(np.arctan2(offset_coordinates[:,1], offset_coordinates[:,0]), 2)\r\n",
        "        # Select closest point in a direction (if no point in direction: random selection)\r\n",
        "        direction_indexes = np.argwhere(((polar_coordinates[:,1] > (action*np.pi/4 - np.pi/4)) \\\r\n",
        "                                            & (polar_coordinates[:,1] < (action*np.pi/4 + np.pi/4))) \\\r\n",
        "                                        | ((polar_coordinates[:,1] + 2*np.pi > (action*np.pi/4 - np.pi/4)) \\\r\n",
        "                                            & (polar_coordinates[:,1] + 2*np.pi < (action*np.pi/4 + np.pi/4))))\r\n",
        "        polar_coordinates[~direction_indexes.flatten()] = np.inf\r\n",
        "        closest_index = np.argmin(polar_coordinates[:,0])\r\n",
        "        return valid_coordinates[closest_index]\r\n",
        "    \r\n",
        "    # Total distance as the crow flies\r\n",
        "    def get_total_distance(self):\r\n",
        "        distance = 0\r\n",
        "        for i in range(len(env.route)-1):\r\n",
        "            distance += np.sqrt((env.route[i+1][0]-env.route[i][0])**2 + (env.route[i+1][1]-env.route[i][1])**2)\r\n",
        "        return round(distance, 1)\r\n",
        "    \r\n",
        "    # Last step distance\r\n",
        "    def get_step_distance(self):\r\n",
        "        distance = np.sqrt((env.route[-1][0]-env.route[-2][0])**2 + (env.route[-1][1]-env.route[-2][1])**2)\r\n",
        "        return round(distance, 1)\r\n",
        "    \r\n",
        "    def step(self, action):\r\n",
        "        self.episode_step += 1\r\n",
        "        # Update game states\r\n",
        "        new_state = self.history[:,:,0].copy()\r\n",
        "        new_coordinates = self.direction_closest(action)\r\n",
        "        new_state[new_coordinates[0], new_coordinates[1]] = 1\r\n",
        "        self.history = np.concatenate((np.expand_dims(new_state, axis=2), self.history[:,:,:-1]), axis=2).copy()\r\n",
        "        # Save position for distance calculation\r\n",
        "        current_position = self.history[:,:,0] - self.history[:,:,1]\r\n",
        "        self.route.append(np.unravel_index(np.argmax(current_position, axis=None), current_position.shape))\r\n",
        "        # Check if episode finished\r\n",
        "        if (self.depot_grid + self.pod_grid == self.history[:,:,0]).all():\r\n",
        "            done = True\r\n",
        "            self.route.append(np.unravel_index(np.argmax(self.depot_grid, axis=None), self.depot_grid.shape))\r\n",
        "            reward = - (self.get_step_distance() + self.get_total_distance())\r\n",
        "        else:\r\n",
        "            done = False\r\n",
        "            reward = -self.get_step_distance()\r\n",
        "        return self.get_observation(), reward, done\r\n",
        "\r\n",
        "env = VRP()"
      ],
      "execution_count": 5,
      "outputs": []
    },
    {
      "cell_type": "markdown",
      "metadata": {
        "id": "v0xV5qiBOWh5"
      },
      "source": [
        "## Agent"
      ]
    },
    {
      "cell_type": "code",
      "metadata": {
        "id": "dTSi9CiLK7RW",
        "colab": {
          "base_uri": "https://localhost:8080/"
        },
        "outputId": "d6f7875e-d686-470e-c6ea-b4fdf7197046"
      },
      "source": [
        "class Agent:\r\n",
        "    def __init__(self):\r\n",
        "        # Main model (train every step)\r\n",
        "        self.model = self.create_model()\r\n",
        "    \r\n",
        "    def create_model(self):\r\n",
        "        if LOAD_MODEL:\r\n",
        "            print(f\"[INFO] Loading model: {LOAD_MODEL}\")\r\n",
        "            model = load_model(LOAD_MODEL)\r\n",
        "            print(\"[INFO] Model loaded\")\r\n",
        "        else:\r\n",
        "            print(\"[ERROR] No model selected\")\r\n",
        "        return model\r\n",
        "\r\n",
        "    def get_qs(self, state):\r\n",
        "        return self.model.predict(state.reshape(-1, *state.shape))[0]\r\n",
        "\r\n",
        "agent = Agent()"
      ],
      "execution_count": 6,
      "outputs": [
        {
          "output_type": "stream",
          "text": [
            "[INFO] Loading model: /content/drive/MyDrive/VRP_DQN/models/5x256C-D10-256__-74.7avg__1612922023.model\n",
            "[INFO] Model loaded\n"
          ],
          "name": "stdout"
        }
      ]
    },
    {
      "cell_type": "markdown",
      "metadata": {
        "id": "W7acQL9x_7bI"
      },
      "source": [
        "## Testing"
      ]
    },
    {
      "cell_type": "code",
      "metadata": {
        "colab": {
          "base_uri": "https://localhost:8080/",
          "height": 357
        },
        "id": "uDrDML0_6V9B",
        "outputId": "b422f7fe-2c5a-4858-86ce-fd6233fc5f94"
      },
      "source": [
        "env = VRP()\r\n",
        "\r\n",
        "# Environement initial state display\r\n",
        "plt.figure(1, figsize=(5,5))\r\n",
        "plt.xlim(-1, GRID_SIZE)\r\n",
        "plt.ylim(-1, GRID_SIZE)\r\n",
        "# Plot depot position\r\n",
        "depot_grid = env.get_observation()[:,:,0]\r\n",
        "plt.scatter(np.argwhere(depot_grid == 1)[:,0], np.argwhere(depot_grid == 1)[:,1], color='red', alpha=0.5, s=2**7)\r\n",
        "# Plot PoD positions\r\n",
        "pod_grid = env.get_observation()[:,:,1]\r\n",
        "plt.scatter(np.argwhere(pod_grid == 1)[:,0], np.argwhere(pod_grid == 1)[:,1], color='blue', alpha=0.5, s=2**7)\r\n",
        "\r\n",
        "done = False\r\n",
        "current_state = env.get_observation()\r\n",
        "episode_reward = 0\r\n",
        "total_distance = 0\r\n",
        "i = 1\r\n",
        "# Loop through steps\r\n",
        "while not done:\r\n",
        "    action = np.argmax(agent.get_qs(current_state))\r\n",
        "    # print(action)\r\n",
        "    current_coor = np.unravel_index(np.argmax(env.get_observation()[:,:,2] - env.get_observation()[:,:,3]), env.get_observation()[:,:,0].shape)\r\n",
        "    next_coor = env.direction_closest(action)\r\n",
        "    plt.plot((current_coor[0], next_coor[0]), (current_coor[1], next_coor[1]))\r\n",
        "    new_state, reward, done = env.step(action)\r\n",
        "    episode_reward += reward\r\n",
        "    total_distance = reward\r\n",
        "    current_state = new_state\r\n",
        "print('episode reward:', episode_reward)\r\n",
        "print('episode distance:', total_distance)"
      ],
      "execution_count": 14,
      "outputs": [
        {
          "output_type": "stream",
          "text": [
            "episode reward: -64.9\n",
            "episode distance: -35.800000000000004\n"
          ],
          "name": "stdout"
        },
        {
          "output_type": "display_data",
          "data": {
            "image/png": "[encoded data removed]",
            "text/plain": [
              "<Figure size 360x360 with 1 Axes>"
            ]
          },
          "metadata": {
            "tags": [],
            "needs_background": "light"
          }
        }
      ]
    },
    {
      "cell_type": "markdown",
      "metadata": {
        "id": "Wv-rFqKeKNEa"
      },
      "source": [
        "## Sandbox"
      ]
    },
    {
      "cell_type": "code",
      "metadata": {
        "colab": {
          "base_uri": "https://localhost:8080/",
          "height": 282
        },
        "id": "2xBIeSDitYE5",
        "outputId": "9a514f1a-25b4-4b7c-8bf9-2b0f592a561c"
      },
      "source": [
        "plt.imshow(env.get_observation()[:,:,1])"
      ],
      "execution_count": null,
      "outputs": [
        {
          "output_type": "execute_result",
          "data": {
            "text/plain": [
              "<matplotlib.image.AxesImage at 0x7fc564b395c0>"
            ]
          },
          "metadata": {
            "tags": []
          },
          "execution_count": 154
        },
        {
          "output_type": "display_data",
          "data": {
            "image/png": "[encoded data removed]",
            "text/plain": [
              "<Figure size 432x288 with 1 Axes>"
            ]
          },
          "metadata": {
            "tags": [],
            "needs_background": "light"
          }
        }
      ]
    }
  ]
}